{
  "nbformat": 4,
  "nbformat_minor": 0,
  "metadata": {
    "colab": {
      "provenance": [],
      "gpuType": "T4"
    },
    "kernelspec": {
      "name": "python3",
      "display_name": "Python 3"
    },
    "language_info": {
      "name": "python"
    },
    "accelerator": "GPU",
    "gpuClass": "standard",
    "widgets": {
      "application/vnd.jupyter.widget-state+json": {
        "b88550667a6c451da4490161fa3f78cc": {
          "model_module": "@jupyter-widgets/controls",
          "model_name": "HBoxModel",
          "model_module_version": "1.5.0",
          "state": {
            "_dom_classes": [],
            "_model_module": "@jupyter-widgets/controls",
            "_model_module_version": "1.5.0",
            "_model_name": "HBoxModel",
            "_view_count": null,
            "_view_module": "@jupyter-widgets/controls",
            "_view_module_version": "1.5.0",
            "_view_name": "HBoxView",
            "box_style": "",
            "children": [
              "IPY_MODEL_dbbeee1f223a4ab3a062930a32225127",
              "IPY_MODEL_7b2cb01a0a074de29c4fb18b3456e287",
              "IPY_MODEL_7b7c59d18c7541839d96eb5e488e9774"
            ],
            "layout": "IPY_MODEL_54c7c464d09e49198af057a6949a5d30"
          }
        },
        "dbbeee1f223a4ab3a062930a32225127": {
          "model_module": "@jupyter-widgets/controls",
          "model_name": "HTMLModel",
          "model_module_version": "1.5.0",
          "state": {
            "_dom_classes": [],
            "_model_module": "@jupyter-widgets/controls",
            "_model_module_version": "1.5.0",
            "_model_name": "HTMLModel",
            "_view_count": null,
            "_view_module": "@jupyter-widgets/controls",
            "_view_module_version": "1.5.0",
            "_view_name": "HTMLView",
            "description": "",
            "description_tooltip": null,
            "layout": "IPY_MODEL_d5990fb460d84f5680114b959066d113",
            "placeholder": "​",
            "style": "IPY_MODEL_2f95f910cbc546718ed027eaf1668662",
            "value": "100%"
          }
        },
        "7b2cb01a0a074de29c4fb18b3456e287": {
          "model_module": "@jupyter-widgets/controls",
          "model_name": "FloatProgressModel",
          "model_module_version": "1.5.0",
          "state": {
            "_dom_classes": [],
            "_model_module": "@jupyter-widgets/controls",
            "_model_module_version": "1.5.0",
            "_model_name": "FloatProgressModel",
            "_view_count": null,
            "_view_module": "@jupyter-widgets/controls",
            "_view_module_version": "1.5.0",
            "_view_name": "ProgressView",
            "bar_style": "success",
            "description": "",
            "description_tooltip": null,
            "layout": "IPY_MODEL_a7fc59d941c54e2b92986490c98632e3",
            "max": 792,
            "min": 0,
            "orientation": "horizontal",
            "style": "IPY_MODEL_e74b63a676604fe987cbe9138fe3810b",
            "value": 792
          }
        },
        "7b7c59d18c7541839d96eb5e488e9774": {
          "model_module": "@jupyter-widgets/controls",
          "model_name": "HTMLModel",
          "model_module_version": "1.5.0",
          "state": {
            "_dom_classes": [],
            "_model_module": "@jupyter-widgets/controls",
            "_model_module_version": "1.5.0",
            "_model_name": "HTMLModel",
            "_view_count": null,
            "_view_module": "@jupyter-widgets/controls",
            "_view_module_version": "1.5.0",
            "_view_name": "HTMLView",
            "description": "",
            "description_tooltip": null,
            "layout": "IPY_MODEL_fbd5b813f708494d95d6c769879e2940",
            "placeholder": "​",
            "style": "IPY_MODEL_b781286b0c0b41aeaaf0a2a4dbd4bb09",
            "value": " 792/792 [00:41&lt;00:00, 19.57it/s]"
          }
        },
        "54c7c464d09e49198af057a6949a5d30": {
          "model_module": "@jupyter-widgets/base",
          "model_name": "LayoutModel",
          "model_module_version": "1.2.0",
          "state": {
            "_model_module": "@jupyter-widgets/base",
            "_model_module_version": "1.2.0",
            "_model_name": "LayoutModel",
            "_view_count": null,
            "_view_module": "@jupyter-widgets/base",
            "_view_module_version": "1.2.0",
            "_view_name": "LayoutView",
            "align_content": null,
            "align_items": null,
            "align_self": null,
            "border": null,
            "bottom": null,
            "display": null,
            "flex": null,
            "flex_flow": null,
            "grid_area": null,
            "grid_auto_columns": null,
            "grid_auto_flow": null,
            "grid_auto_rows": null,
            "grid_column": null,
            "grid_gap": null,
            "grid_row": null,
            "grid_template_areas": null,
            "grid_template_columns": null,
            "grid_template_rows": null,
            "height": null,
            "justify_content": null,
            "justify_items": null,
            "left": null,
            "margin": null,
            "max_height": null,
            "max_width": null,
            "min_height": null,
            "min_width": null,
            "object_fit": null,
            "object_position": null,
            "order": null,
            "overflow": null,
            "overflow_x": null,
            "overflow_y": null,
            "padding": null,
            "right": null,
            "top": null,
            "visibility": null,
            "width": null
          }
        },
        "d5990fb460d84f5680114b959066d113": {
          "model_module": "@jupyter-widgets/base",
          "model_name": "LayoutModel",
          "model_module_version": "1.2.0",
          "state": {
            "_model_module": "@jupyter-widgets/base",
            "_model_module_version": "1.2.0",
            "_model_name": "LayoutModel",
            "_view_count": null,
            "_view_module": "@jupyter-widgets/base",
            "_view_module_version": "1.2.0",
            "_view_name": "LayoutView",
            "align_content": null,
            "align_items": null,
            "align_self": null,
            "border": null,
            "bottom": null,
            "display": null,
            "flex": null,
            "flex_flow": null,
            "grid_area": null,
            "grid_auto_columns": null,
            "grid_auto_flow": null,
            "grid_auto_rows": null,
            "grid_column": null,
            "grid_gap": null,
            "grid_row": null,
            "grid_template_areas": null,
            "grid_template_columns": null,
            "grid_template_rows": null,
            "height": null,
            "justify_content": null,
            "justify_items": null,
            "left": null,
            "margin": null,
            "max_height": null,
            "max_width": null,
            "min_height": null,
            "min_width": null,
            "object_fit": null,
            "object_position": null,
            "order": null,
            "overflow": null,
            "overflow_x": null,
            "overflow_y": null,
            "padding": null,
            "right": null,
            "top": null,
            "visibility": null,
            "width": null
          }
        },
        "2f95f910cbc546718ed027eaf1668662": {
          "model_module": "@jupyter-widgets/controls",
          "model_name": "DescriptionStyleModel",
          "model_module_version": "1.5.0",
          "state": {
            "_model_module": "@jupyter-widgets/controls",
            "_model_module_version": "1.5.0",
            "_model_name": "DescriptionStyleModel",
            "_view_count": null,
            "_view_module": "@jupyter-widgets/base",
            "_view_module_version": "1.2.0",
            "_view_name": "StyleView",
            "description_width": ""
          }
        },
        "a7fc59d941c54e2b92986490c98632e3": {
          "model_module": "@jupyter-widgets/base",
          "model_name": "LayoutModel",
          "model_module_version": "1.2.0",
          "state": {
            "_model_module": "@jupyter-widgets/base",
            "_model_module_version": "1.2.0",
            "_model_name": "LayoutModel",
            "_view_count": null,
            "_view_module": "@jupyter-widgets/base",
            "_view_module_version": "1.2.0",
            "_view_name": "LayoutView",
            "align_content": null,
            "align_items": null,
            "align_self": null,
            "border": null,
            "bottom": null,
            "display": null,
            "flex": null,
            "flex_flow": null,
            "grid_area": null,
            "grid_auto_columns": null,
            "grid_auto_flow": null,
            "grid_auto_rows": null,
            "grid_column": null,
            "grid_gap": null,
            "grid_row": null,
            "grid_template_areas": null,
            "grid_template_columns": null,
            "grid_template_rows": null,
            "height": null,
            "justify_content": null,
            "justify_items": null,
            "left": null,
            "margin": null,
            "max_height": null,
            "max_width": null,
            "min_height": null,
            "min_width": null,
            "object_fit": null,
            "object_position": null,
            "order": null,
            "overflow": null,
            "overflow_x": null,
            "overflow_y": null,
            "padding": null,
            "right": null,
            "top": null,
            "visibility": null,
            "width": null
          }
        },
        "e74b63a676604fe987cbe9138fe3810b": {
          "model_module": "@jupyter-widgets/controls",
          "model_name": "ProgressStyleModel",
          "model_module_version": "1.5.0",
          "state": {
            "_model_module": "@jupyter-widgets/controls",
            "_model_module_version": "1.5.0",
            "_model_name": "ProgressStyleModel",
            "_view_count": null,
            "_view_module": "@jupyter-widgets/base",
            "_view_module_version": "1.2.0",
            "_view_name": "StyleView",
            "bar_color": null,
            "description_width": ""
          }
        },
        "fbd5b813f708494d95d6c769879e2940": {
          "model_module": "@jupyter-widgets/base",
          "model_name": "LayoutModel",
          "model_module_version": "1.2.0",
          "state": {
            "_model_module": "@jupyter-widgets/base",
            "_model_module_version": "1.2.0",
            "_model_name": "LayoutModel",
            "_view_count": null,
            "_view_module": "@jupyter-widgets/base",
            "_view_module_version": "1.2.0",
            "_view_name": "LayoutView",
            "align_content": null,
            "align_items": null,
            "align_self": null,
            "border": null,
            "bottom": null,
            "display": null,
            "flex": null,
            "flex_flow": null,
            "grid_area": null,
            "grid_auto_columns": null,
            "grid_auto_flow": null,
            "grid_auto_rows": null,
            "grid_column": null,
            "grid_gap": null,
            "grid_row": null,
            "grid_template_areas": null,
            "grid_template_columns": null,
            "grid_template_rows": null,
            "height": null,
            "justify_content": null,
            "justify_items": null,
            "left": null,
            "margin": null,
            "max_height": null,
            "max_width": null,
            "min_height": null,
            "min_width": null,
            "object_fit": null,
            "object_position": null,
            "order": null,
            "overflow": null,
            "overflow_x": null,
            "overflow_y": null,
            "padding": null,
            "right": null,
            "top": null,
            "visibility": null,
            "width": null
          }
        },
        "b781286b0c0b41aeaaf0a2a4dbd4bb09": {
          "model_module": "@jupyter-widgets/controls",
          "model_name": "DescriptionStyleModel",
          "model_module_version": "1.5.0",
          "state": {
            "_model_module": "@jupyter-widgets/controls",
            "_model_module_version": "1.5.0",
            "_model_name": "DescriptionStyleModel",
            "_view_count": null,
            "_view_module": "@jupyter-widgets/base",
            "_view_module_version": "1.2.0",
            "_view_name": "StyleView",
            "description_width": ""
          }
        }
      }
    }
  },
  "cells": [
    {
      "cell_type": "code",
      "execution_count": null,
      "metadata": {
        "id": "rC85fBxR9d5R"
      },
      "outputs": [],
      "source": [
        "import random\n",
        "import pandas as pd\n",
        "import numpy as np\n",
        "import os\n",
        "import re\n",
        "import glob\n",
        "import cv2\n",
        "\n",
        "import torch\n",
        "import torch.nn as nn\n",
        "import torch.optim as optim\n",
        "import torch.nn.functional as F\n",
        "from torch.utils.data import Dataset, DataLoader, WeightedRandomSampler\n",
        "\n",
        "import albumentations as A\n",
        "from albumentations.pytorch.transforms import ToTensorV2\n",
        "import torchvision.models as models\n",
        "\n",
        "from sklearn.model_selection import train_test_split\n",
        "from sklearn import preprocessing\n",
        "from sklearn.metrics import f1_score\n",
        "from sklearn.metrics import classification_report\n",
        "from tqdm.auto import tqdm\n",
        "\n",
        "import warnings\n",
        "warnings.filterwarnings(action='ignore')"
      ]
    },
    {
      "cell_type": "code",
      "source": [
        "from google.colab import drive\n",
        "drive.mount('/content/drive')"
      ],
      "metadata": {
        "colab": {
          "base_uri": "https://localhost:8080/"
        },
        "id": "JNlK7ooY9gIW",
        "outputId": "0dd61fd2-d3c8-4d9e-d376-5edf48d65927"
      },
      "execution_count": null,
      "outputs": [
        {
          "output_type": "stream",
          "name": "stdout",
          "text": [
            "Mounted at /content/drive\n"
          ]
        }
      ]
    },
    {
      "cell_type": "code",
      "source": [
        "folders = glob.glob('/content/drive/MyDrive/ai_project/train/*')\n",
        "all_img_list = glob.glob('/content/drive/MyDrive/ai_project/train/*/*')\n",
        "root = '/content/drive/MyDrive/ai_project/train'\n",
        "test_folder = '/content/drive/MyDrive/ai_project/test'"
      ],
      "metadata": {
        "id": "uh8CAgdS9lLE"
      },
      "execution_count": null,
      "outputs": []
    },
    {
      "cell_type": "code",
      "source": [
        "class CustomDataset(Dataset):\n",
        "    def __init__(self, img_path_list, label_list, transforms=None):\n",
        "        self.img_path_list = img_path_list\n",
        "        self.label_list = label_list\n",
        "        self.transforms = transforms\n",
        "\n",
        "    def __getitem__(self, index):\n",
        "        img_path = self.img_path_list[index]\n",
        "\n",
        "        image = cv2.imread(img_path)\n",
        "\n",
        "        if self.transforms is not None:\n",
        "            image = self.transforms(image=image)['image']\n",
        "\n",
        "        if self.label_list is not None:\n",
        "            label = self.label_list[index]\n",
        "            return image, label\n",
        "        else:\n",
        "            return image\n",
        "\n",
        "    def __len__(self):\n",
        "        return len(self.img_path_list)"
      ],
      "metadata": {
        "id": "TFqu0tMt9pX9"
      },
      "execution_count": null,
      "outputs": []
    },
    {
      "cell_type": "code",
      "source": [
        "res_transform = A.Compose([\n",
        "                          A.Resize(224,224),\n",
        "                          A.Normalize(mean=(0.485, 0.456, 0.406), std=(0.229, 0.224, 0.225)),\n",
        "                          ToTensorV2()\n",
        "                          ])"
      ],
      "metadata": {
        "id": "csvW6qTR9q8m"
      },
      "execution_count": null,
      "outputs": []
    },
    {
      "cell_type": "code",
      "source": [
        "class BaseModel(nn.Module):\n",
        "    def __init__(self, num_classes):\n",
        "        super(BaseModel, self).__init__()\n",
        "        self.backbone = models.densenet121(pretrained=True)\n",
        "        self.classifier = nn.Linear(1000, num_classes)\n",
        "\n",
        "    def forward(self, x):\n",
        "        x = self.backbone(x)\n",
        "        x = self.classifier(x)\n",
        "        return x"
      ],
      "metadata": {
        "id": "876zVTf39tLg"
      },
      "execution_count": null,
      "outputs": []
    },
    {
      "cell_type": "code",
      "source": [
        "savepath_c0 = '/content/drive/MyDrive/ai_project/5.18/small_100_5_18_21:57:56.pt'\n",
        "savepath_c1 = '/content/drive/MyDrive/ai_project/5.18/small_1_100_5_18_23_7_55.pt'\n",
        "# savepath_c1 = '/content/drive/MyDrive/ai_project/5.18/samll_100_5_18_22_1_26.pt'\n",
        "savepath_c2 = '/content/drive/MyDrive/ai_project/5.18/small_2_100_5_18_22_10_14.pt'\n",
        "savepath_c3 = '/content/drive/MyDrive/ai_project/5.18/samll_100_5_18_22_20_58.pt'\n",
        "savepath_sub = '/content/drive/MyDrive/ai_project/5.18/big_100_5_18_23:39:6.pt'\n",
        "savepath_list = [savepath_c0,savepath_c1,savepath_c2,savepath_c3,savepath_sub]"
      ],
      "metadata": {
        "id": "95fpwK_X-N71"
      },
      "execution_count": null,
      "outputs": []
    },
    {
      "cell_type": "code",
      "source": [
        "model_c0 = BaseModel(num_classes = 4)\n",
        "model_c1 = BaseModel(num_classes = 7)\n",
        "model_c2 = BaseModel(num_classes = 5)\n",
        "model_c3 = BaseModel(num_classes = 3)\n",
        "model_sub = BaseModel(num_classes = 4)\n",
        "model_list = [model_c0,model_c1,model_c2,model_c3,model_sub]\n",
        "device = torch.device('cuda') if torch.cuda.is_available() else torch.device('cpu')\n",
        "for i in range(len(model_list)):\n",
        "  model_list[i].load_state_dict(torch.load(savepath_list[i]))\n",
        "  model_list[i].to(device)\n",
        "  model_list[i].eval()\n"
      ],
      "metadata": {
        "id": "OoaMc8B7-AUN"
      },
      "execution_count": null,
      "outputs": []
    },
    {
      "cell_type": "code",
      "source": [
        "test = pd.read_csv('/content/drive/MyDrive/ai_project/test.csv')\n",
        "test_dataset = CustomDataset('/content/drive/MyDrive/ai_project/'+test['img_path'].values, None, res_transform)\n",
        "test_loader = DataLoader(test_dataset, batch_size=1, shuffle=False, num_workers=0)"
      ],
      "metadata": {
        "id": "D_fE-aEn92_I"
      },
      "execution_count": null,
      "outputs": []
    },
    {
      "cell_type": "code",
      "source": [
        "def label_decoder(label):\n",
        "    new_label =[\n",
        "        '가구수정' if l==0 else\n",
        "        '걸레받이수정' if l==1 else\n",
        "        '곰팡이' if l==2 else\n",
        "        '꼬임' if l==3 else\n",
        "        '녹오염' if l==4 else\n",
        "        '들뜸' if l==5 else\n",
        "        '면불량' if l==6 else\n",
        "        '몰딩수정' if l==7 else\n",
        "        '반점' if l==8 else\n",
        "        '석고수정' if l==9 else\n",
        "        '오염' if l==10 else\n",
        "        '오타공' if l==11 else\n",
        "        '울음' if l==12 else\n",
        "        '이음부불량' if l==13 else\n",
        "        '창틀,문틀수정' if l==14 else\n",
        "        '터짐' if l==15 else\n",
        "        '틈새과다' if l==16 else\n",
        "        '피스' if l==17 else\n",
        "        '훼손' if l==18 else\n",
        "        'NaN' for l in label\n",
        "    ]\n",
        "    return np.array(new_label)"
      ],
      "metadata": {
        "id": "r2MeEVe994Gp"
      },
      "execution_count": null,
      "outputs": []
    },
    {
      "cell_type": "code",
      "source": [
        "def label_decoder0(label):\n",
        "    new_label =[\n",
        "        '곰팡이' if l==0 else\n",
        "        '녹오염' if l==1 else\n",
        "        '반점' if l==2 else\n",
        "        '오염' if l==3 else\n",
        "        'NaN' for l in label\n",
        "    ]\n",
        "    return np.array(new_label)\n",
        "def label_decoder1(label):\n",
        "    new_label =[\n",
        "        '가구수정' if l==0 else\n",
        "        '걸레받이수정' if l==1 else\n",
        "        '꼬임' if l==2 else\n",
        "        '들뜸' if l==3 else\n",
        "        '몰딩수정' if l==4 else\n",
        "        '창틀,문틀수정' if l==5 else\n",
        "        '틈새과다' if l==6 else\n",
        "        'NaN' for l in label\n",
        "    ]\n",
        "    return np.array(new_label)\n",
        "def label_decoder2(label):\n",
        "    new_label =[\n",
        "        '면불량' if l==0 else\n",
        "        '울음' if l==1 else\n",
        "        '이음부불량' if l==2 else\n",
        "        '터짐' if l==3 else\n",
        "        '훼손' if l==4 else\n",
        "        'NaN' for l in label\n",
        "    ]\n",
        "    return np.array(new_label)\n",
        "def label_decoder3(label):\n",
        "    new_label =[\n",
        "        '석고수정' if l==0 else\n",
        "        '오타공' if l==1 else\n",
        "        '피스' if l==2 else\n",
        "        'NaN' for l in label\n",
        "    ]\n",
        "    return np.array(new_label)\n",
        "decoder_list = [label_decoder0,label_decoder1,label_decoder2,label_decoder3]"
      ],
      "metadata": {
        "id": "dVXujariBOlL"
      },
      "execution_count": null,
      "outputs": []
    },
    {
      "cell_type": "code",
      "source": [
        "def inference(model, res_loader, device):\n",
        "    model.eval()\n",
        "    preds = []\n",
        "    pred_kor=[]\n",
        "    with torch.no_grad():\n",
        "        for imgs in tqdm(iter(res_loader)):\n",
        "            imgs = imgs.float().to(device)\n",
        "            pred = model(imgs)\n",
        "            preds += pred.argmax(1).detach().cpu().numpy().tolist()\n",
        "            if preds[-1] == 0:\n",
        "              pred = model_c0(imgs)\n",
        "              pred_kor.append(decoder_list[0](pred.argmax(1).detach().cpu().numpy().tolist())[0])\n",
        "            elif preds[-1] == 1:\n",
        "              pred = model_c1(imgs)\n",
        "              pred_kor.append(decoder_list[1](pred.argmax(1).detach().cpu().numpy().tolist())[0])\n",
        "            elif preds[-1] == 2:\n",
        "              pred = model_c2(imgs)\n",
        "              pred_kor.append(decoder_list[2](pred.argmax(1).detach().cpu().numpy().tolist())[0])\n",
        "            elif preds[-1] == 3:\n",
        "              pred = model_c3(imgs)\n",
        "              pred_kor.append(decoder_list[3](pred.argmax(1).detach().cpu().numpy().tolist())[0])\n",
        "    # preds = le.inverse_transform(preds)\n",
        "    print(pred_kor)\n",
        "    return pred_kor"
      ],
      "metadata": {
        "id": "41VOEb9O95Su"
      },
      "execution_count": null,
      "outputs": []
    },
    {
      "cell_type": "code",
      "source": [
        "preds = inference(model_sub, test_loader, device)\n",
        "preds = [str(x) for x in preds]"
      ],
      "metadata": {
        "colab": {
          "base_uri": "https://localhost:8080/",
          "height": 87,
          "referenced_widgets": [
            "b88550667a6c451da4490161fa3f78cc",
            "dbbeee1f223a4ab3a062930a32225127",
            "7b2cb01a0a074de29c4fb18b3456e287",
            "7b7c59d18c7541839d96eb5e488e9774",
            "54c7c464d09e49198af057a6949a5d30",
            "d5990fb460d84f5680114b959066d113",
            "2f95f910cbc546718ed027eaf1668662",
            "a7fc59d941c54e2b92986490c98632e3",
            "e74b63a676604fe987cbe9138fe3810b",
            "fbd5b813f708494d95d6c769879e2940",
            "b781286b0c0b41aeaaf0a2a4dbd4bb09"
          ]
        },
        "id": "kCRo-O_6993A",
        "outputId": "c5d6ca2e-3581-470b-ffbc-45aee61bdba6"
      },
      "execution_count": null,
      "outputs": [
        {
          "output_type": "display_data",
          "data": {
            "text/plain": [
              "  0%|          | 0/792 [00:00<?, ?it/s]"
            ],
            "application/vnd.jupyter.widget-view+json": {
              "version_major": 2,
              "version_minor": 0,
              "model_id": "b88550667a6c451da4490161fa3f78cc"
            }
          },
          "metadata": {}
        },
        {
          "output_type": "stream",
          "name": "stdout",
          "text": [
            "['훼손', '녹오염', '터짐', '몰딩수정', '면불량', '녹오염', '곰팡이', '녹오염', '곰팡이', '오타공', '곰팡이', '피스', '이음부불량', '오염', '곰팡이', '면불량', '석고수정', '몰딩수정', '터짐', '반점', '창틀,문틀수정', '곰팡이', '면불량', '오염', '창틀,문틀수정', '면불량', '피스', '꼬임', '훼손', '면불량', '면불량', '훼손', '오염', '훼손', '피스', '곰팡이', '녹오염', '울음', '오타공', '오타공', '면불량', '들뜸', '훼손', '꼬임', '터짐', '녹오염', '면불량', '오염', '훼손', '면불량', '면불량', '터짐', '훼손', '녹오염', '오타공', '오염', '오염', '피스', '면불량', '터짐', '피스', '몰딩수정', '들뜸', '이음부불량', '몰딩수정', '오염', '면불량', '걸레받이수정', '면불량', '피스', '오염', '걸레받이수정', '면불량', '면불량', '오타공', '터짐', '곰팡이', '훼손', '오염', '오타공', '면불량', '면불량', '오염', '피스', '곰팡이', '오타공', '곰팡이', '터짐', '창틀,문틀수정', '곰팡이', '면불량', '꼬임', '터짐', '곰팡이', '훼손', '곰팡이', '피스', '피스', '오타공', '오염', '터짐', '오염', '곰팡이', '면불량', '반점', '몰딩수정', '가구수정', '오타공', '훼손', '곰팡이', '오염', '오타공', '면불량', '오염', '면불량', '터짐', '훼손', '터짐', '오염', '터짐', '곰팡이', '터짐', '몰딩수정', '녹오염', '곰팡이', '훼손', '면불량', '곰팡이', '면불량', '오염', '피스', '이음부불량', '오염', '면불량', '오타공', '훼손', '녹오염', '오염', '훼손', '오염', '울음', '피스', '곰팡이', '터짐', '피스', '울음', '오타공', '녹오염', '오타공', '터짐', '터짐', '곰팡이', '터짐', '녹오염', '오타공', '훼손', '오염', '오염', '석고수정', '녹오염', '오염', '창틀,문틀수정', '울음', '훼손', '훼손', '훼손', '터짐', '훼손', '훼손', '터짐', '면불량', '녹오염', '훼손', '터짐', '훼손', '꼬임', '오염', '피스', '오타공', '몰딩수정', '훼손', '오염', '오타공', '들뜸', '면불량', '면불량', '피스', '녹오염', '터짐', '꼬임', '몰딩수정', '면불량', '녹오염', '오염', '오염', '오염', '피스', '몰딩수정', '이음부불량', '몰딩수정', '오염', '들뜸', '녹오염', '곰팡이', '창틀,문틀수정', '곰팡이', '곰팡이', '피스', '녹오염', '피스', '꼬임', '훼손', '울음', '울음', '면불량', '꼬임', '훼손', '곰팡이', '몰딩수정', '오염', '오염', '터짐', '피스', '곰팡이', '오타공', '면불량', '오염', '터짐', '곰팡이', '오염', '훼손', '피스', '걸레받이수정', '면불량', '오타공', '터짐', '꼬임', '터짐', '반점', '면불량', '꼬임', '피스', '울음', '울음', '녹오염', '꼬임', '훼손', '오염', '훼손', '몰딩수정', '울음', '오타공', '녹오염', '터짐', '오타공', '이음부불량', '녹오염', '몰딩수정', '걸레받이수정', '터짐', '오타공', '면불량', '오염', '피스', '틈새과다', '오타공', '오염', '꼬임', '오염', '터짐', '피스', '곰팡이', '곰팡이', '울음', '오염', '훼손', '몰딩수정', '창틀,문틀수정', '면불량', '오타공', '터짐', '면불량', '녹오염', '오염', '터짐', '오염', '몰딩수정', '오염', '오염', '오염', '곰팡이', '꼬임', '몰딩수정', '훼손', '터짐', '오염', '피스', '피스', '오염', '울음', '창틀,문틀수정', '오염', '오염', '오염', '걸레받이수정', '훼손', '피스', '녹오염', '훼손', '훼손', '오염', '석고수정', '석고수정', '훼손', '녹오염', '몰딩수정', '반점', '터짐', '꼬임', '들뜸', '오염', '오타공', '피스', '곰팡이', '오염', '울음', '훼손', '피스', '울음', '이음부불량', '터짐', '곰팡이', '오염', '오염', '울음', '걸레받이수정', '오염', '오타공', '면불량', '녹오염', '오타공', '오타공', '터짐', '피스', '면불량', '훼손', '면불량', '훼손', '오염', '틈새과다', '오염', '터짐', '석고수정', '들뜸', '오타공', '오염', '오타공', '면불량', '곰팡이', '울음', '오염', '면불량', '걸레받이수정', '오염', '훼손', '울음', '피스', '오염', '곰팡이', '피스', '녹오염', '오염', '면불량', '면불량', '오타공', '면불량', '걸레받이수정', '오염', '터짐', '터짐', '오염', '들뜸', '오염', '곰팡이', '오염', '훼손', '걸레받이수정', '꼬임', '오염', '꼬임', '훼손', '훼손', '곰팡이', '곰팡이', '녹오염', '오염', '면불량', '훼손', '훼손', '오염', '오타공', '걸레받이수정', '면불량', '걸레받이수정', '들뜸', '곰팡이', '면불량', '들뜸', '울음', '녹오염', '걸레받이수정', '훼손', '훼손', '피스', '터짐', '곰팡이', '반점', '면불량', '곰팡이', '곰팡이', '훼손', '가구수정', '걸레받이수정', '면불량', '걸레받이수정', '녹오염', '오염', '오염', '창틀,문틀수정', '울음', '훼손', '면불량', '터짐', '오염', '피스', '면불량', '울음', '꼬임', '터짐', '걸레받이수정', '오타공', '터짐', '오염', '훼손', '몰딩수정', '곰팡이', '오염', '피스', '훼손', '면불량', '터짐', '오염', '걸레받이수정', '곰팡이', '반점', '면불량', '면불량', '피스', '오타공', '녹오염', '곰팡이', '면불량', '곰팡이', '훼손', '훼손', '터짐', '훼손', '곰팡이', '녹오염', '오타공', '걸레받이수정', '울음', '곰팡이', '면불량', '곰팡이', '오타공', '반점', '훼손', '터짐', '녹오염', '훼손', '면불량', '훼손', '면불량', '피스', '오타공', '오염', '면불량', '피스', '면불량', '창틀,문틀수정', '피스', '녹오염', '울음', '창틀,문틀수정', '녹오염', '훼손', '창틀,문틀수정', '면불량', '오염', '녹오염', '몰딩수정', '면불량', '면불량', '오염', '곰팡이', '석고수정', '면불량', '녹오염', '오염', '걸레받이수정', '오타공', '들뜸', '피스', '꼬임', '오염', '훼손', '오타공', '피스', '오타공', '오타공', '오타공', '들뜸', '피스', '오타공', '면불량', '오타공', '면불량', '오염', '훼손', '훼손', '곰팡이', '창틀,문틀수정', '곰팡이', '녹오염', '터짐', '오타공', '피스', '훼손', '면불량', '면불량', '터짐', '울음', '오타공', '몰딩수정', '훼손', '울음', '오염', '오염', '터짐', '훼손', '울음', '오타공', '오타공', '오타공', '꼬임', '피스', '곰팡이', '훼손', '면불량', '피스', '터짐', '면불량', '곰팡이', '터짐', '오염', '녹오염', '훼손', '면불량', '면불량', '녹오염', '면불량', '면불량', '걸레받이수정', '훼손', '훼손', '면불량', '울음', '오염', '울음', '면불량', '면불량', '곰팡이', '곰팡이', '피스', '창틀,문틀수정', '오염', '피스', '몰딩수정', '녹오염', '들뜸', '울음', '피스', '몰딩수정', '면불량', '곰팡이', '들뜸', '피스', '들뜸', '오염', '터짐', '곰팡이', '울음', '오염', '걸레받이수정', '오염', '면불량', '석고수정', '터짐', '피스', '녹오염', '오타공', '피스', '훼손', '곰팡이', '울음', '오타공', '오염', '피스', '오염', '오염', '곰팡이', '훼손', '꼬임', '오염', '훼손', '곰팡이', '훼손', '오염', '녹오염', '터짐', '꼬임', '울음', '훼손', '오염', '터짐', '터짐', '울음', '오염', '터짐', '곰팡이', '오타공', '터짐', '곰팡이', '곰팡이', '오염', '면불량', '훼손', '곰팡이', '오타공', '훼손', '훼손', '녹오염', '훼손', '몰딩수정', '녹오염', '오염', '오염', '오타공', '녹오염', '훼손', '면불량', '몰딩수정', '곰팡이', '꼬임', '꼬임', '면불량', '오타공', '피스', '녹오염', '터짐', '오염', '터짐', '곰팡이', '곰팡이', '울음', '피스', '터짐', '들뜸', '녹오염', '곰팡이', '피스', '오염', '면불량', '훼손', '면불량', '면불량', '오염', '곰팡이', '훼손', '오타공', '걸레받이수정', '터짐', '훼손', '면불량', '피스', '녹오염', '훼손', '꼬임', '곰팡이', '훼손', '녹오염', '몰딩수정', '곰팡이', '꼬임', '곰팡이', '반점', '곰팡이', '훼손', '면불량', '오염', '면불량', '창틀,문틀수정', '면불량', '곰팡이', '면불량', '훼손', '몰딩수정', '피스', '곰팡이', '걸레받이수정', '피스', '창틀,문틀수정', '오염', '오염', '오염', '터짐', '훼손', '이음부불량', '면불량', '오염', '몰딩수정', '걸레받이수정', '오염', '울음', '면불량', '터짐', '창틀,문틀수정', '오염', '꼬임', '들뜸', '몰딩수정', '오타공', '곰팡이', '면불량', '훼손', '몰딩수정', '몰딩수정', '몰딩수정', '훼손', '곰팡이', '걸레받이수정', '이음부불량', '걸레받이수정', '오타공', '꼬임', '창틀,문틀수정', '면불량', '터짐', '오타공', '오염', '피스', '창틀,문틀수정', '곰팡이', '면불량', '몰딩수정', '몰딩수정', '오타공', '터짐', '창틀,문틀수정', '몰딩수정', '면불량', '오타공', '걸레받이수정', '피스', '오염', '오염', '오염', '터짐', '오염', '곰팡이', '오염', '몰딩수정', '들뜸', '오염', '훼손', '들뜸', '꼬임', '오염', '창틀,문틀수정', '면불량', '창틀,문틀수정']\n"
          ]
        }
      ]
    },
    {
      "cell_type": "code",
      "source": [
        "submit = pd.read_csv('/content/drive/MyDrive/ai_project/sample_submission.csv',encoding='utf-8-sig')\n",
        "submit['label'] = preds\n",
        "submit.to_csv('/content/drive/MyDrive/ai_project/5.18_1.csv', index=False, encoding='utf-8-sig')"
      ],
      "metadata": {
        "id": "k8ZtbW5B99kv"
      },
      "execution_count": null,
      "outputs": []
    }
  ]
}
